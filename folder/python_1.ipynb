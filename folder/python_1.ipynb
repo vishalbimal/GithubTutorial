{
 "cells": [
  {
   "cell_type": "code",
   "execution_count": 3,
   "metadata": {},
   "outputs": [],
   "source": [
    "from collections import OrderedDict"
   ]
  },
  {
   "cell_type": "code",
   "execution_count": 4,
   "metadata": {},
   "outputs": [],
   "source": [
    "import numpy as np"
   ]
  },
  {
   "cell_type": "code",
   "execution_count": 5,
   "metadata": {},
   "outputs": [],
   "source": [
    "dict={'ravi':10,\"rajnish\":9,'sanjeev':15,'yash':2,'suraj':32}\n"
   ]
  },
  {
   "cell_type": "code",
   "execution_count": 6,
   "metadata": {},
   "outputs": [
    {
     "name": "stdout",
     "output_type": "stream",
     "text": [
      "{'ravi': 10, 'rajnish': 9, 'sanjeev': 15, 'yash': 2, 'suraj': 32}\n"
     ]
    }
   ],
   "source": [
    "print(dict)"
   ]
  },
  {
   "cell_type": "code",
   "execution_count": 9,
   "metadata": {},
   "outputs": [
    {
     "data": {
      "text/plain": [
       "['ravi', 'rajnish', 'sanjeev', 'yash', 'suraj']"
      ]
     },
     "execution_count": 9,
     "metadata": {},
     "output_type": "execute_result"
    }
   ],
   "source": [
    "keys=list(dict.keys())\n",
    "keys"
   ]
  },
  {
   "cell_type": "code",
   "execution_count": 10,
   "metadata": {},
   "outputs": [
    {
     "data": {
      "text/plain": [
       "[10, 9, 15, 2, 32]"
      ]
     },
     "execution_count": 10,
     "metadata": {},
     "output_type": "execute_result"
    }
   ],
   "source": [
    "values= list(dict.values())\n",
    "values"
   ]
  },
  {
   "cell_type": "code",
   "execution_count": 11,
   "metadata": {},
   "outputs": [],
   "source": [
    "sorted_value_index=np.argsort(values)"
   ]
  },
  {
   "cell_type": "code",
   "execution_count": 12,
   "metadata": {},
   "outputs": [
    {
     "data": {
      "text/plain": [
       "array([3, 1, 0, 2, 4], dtype=int64)"
      ]
     },
     "execution_count": 12,
     "metadata": {},
     "output_type": "execute_result"
    }
   ],
   "source": [
    "sorted_value_index"
   ]
  },
  {
   "cell_type": "code",
   "execution_count": 13,
   "metadata": {},
   "outputs": [],
   "source": [
    "sorted_dict = {keys[i]: values[i] for i in sorted_value_index}"
   ]
  },
  {
   "cell_type": "code",
   "execution_count": 14,
   "metadata": {},
   "outputs": [
    {
     "data": {
      "text/plain": [
       "{'yash': 2, 'rajnish': 9, 'ravi': 10, 'sanjeev': 15, 'suraj': 32}"
      ]
     },
     "execution_count": 14,
     "metadata": {},
     "output_type": "execute_result"
    }
   ],
   "source": [
    "sorted_dict"
   ]
  },
  {
   "cell_type": "code",
   "execution_count": 31,
   "metadata": {},
   "outputs": [
    {
     "name": "stdout",
     "output_type": "stream",
     "text": [
      "Task 1:-\n",
      "\n",
      "key_value {2: 56, 1: 2, 5: 12, 4: 24, 6: 18}\n",
      "1 2 4 5 6 "
     ]
    }
   ],
   "source": [
    "def dictionary():\n",
    "    key_value={}\n",
    "\n",
    "    key_value[2]=56\n",
    "    key_value[1]=2\n",
    "    key_value[5]=12\n",
    "    key_value[4]=24\n",
    "    key_value[6]=18\n",
    "\n",
    "    print(\"Task 1:-\\n\")\n",
    "    print(\"key_value\",key_value)\n",
    "\n",
    "    for i in sorted(key_value.keys()):\n",
    "        print(i,end=\" \")\n",
    "\n",
    "def main():\n",
    "    # function calling\n",
    "    dictionary()\n",
    " \n",
    " \n",
    "# Main function calling\n",
    "if __name__ == \"__main__\":\n",
    "    main()"
   ]
  },
  {
   "cell_type": "code",
   "execution_count": 43,
   "metadata": {},
   "outputs": [],
   "source": [
    "#KEY\n",
    "#VALUES\n",
    "#ITEMS\n",
    "\n",
    "key_value={}\n",
    "\n",
    "key_value[2]=56\n",
    "key_value[1]=2\n",
    "key_value[4]=12\n",
    "key_value[5]=24\n",
    "key_value[6]=18"
   ]
  },
  {
   "cell_type": "code",
   "execution_count": 46,
   "metadata": {},
   "outputs": [
    {
     "data": {
      "text/plain": [
       "[(1, 2), (2, 56), (4, 12), (5, 24), (6, 18)]"
      ]
     },
     "execution_count": 46,
     "metadata": {},
     "output_type": "execute_result"
    }
   ],
   "source": [
    "sorted(key_value.items())"
   ]
  },
  {
   "cell_type": "code",
   "execution_count": 48,
   "metadata": {},
   "outputs": [
    {
     "name": "stdout",
     "output_type": "stream",
     "text": [
      "key_value {1: 10, 2: 44, 3: 44, 4: 37, 5: 106, 6: 104, 7: 1044}\n",
      "Task 3:- \n",
      "Keys and Values sorted in alphabetical order by the value\n",
      "[(1, 10), (4, 37), (2, 44), (3, 44), (6, 104), (5, 106), (7, 1044)]\n"
     ]
    }
   ],
   "source": [
    "#SORTING THE KEYS AND VALUES ALPHABETICALLY USING THE VALUE\n",
    "\n",
    "def dictionary():\n",
    "    key_value={}\n",
    "\n",
    "    key_value[1]=10\n",
    "    key_value[2]=44\n",
    "    key_value[3]=44\n",
    "    key_value[4]=37\n",
    "    key_value[5]=106\n",
    "    key_value[6]=104\n",
    "    key_value[7]=1044\n",
    "\n",
    "    print(\"key_value\",key_value)\n",
    "\n",
    "    print(\"Task 3:- \\nKeys and Values sorted\",\n",
    "          \"in alphabetical order by the value\")\n",
    "    \n",
    "    print(sorted(key_value.items(),key=lambda kv:\n",
    "                 (kv[1],kv[0])))\n",
    "    \n",
    "\n",
    "def main():\n",
    "    dictionary()\n",
    "\n",
    "if __name__==\"__main__\":\n",
    "    main()"
   ]
  },
  {
   "cell_type": "code",
   "execution_count": 49,
   "metadata": {},
   "outputs": [
    {
     "name": "stdout",
     "output_type": "stream",
     "text": [
      "Collecting black\n",
      "  Downloading black-23.12.1-cp38-cp38-win_amd64.whl.metadata (68 kB)\n",
      "     ---------------------------------------- 0.0/69.0 kB ? eta -:--:--\n",
      "     ----------------- ---------------------- 30.7/69.0 kB ? eta -:--:--\n",
      "     ---------------------------------------- 69.0/69.0 kB 1.3 MB/s eta 0:00:00\n",
      "Collecting click>=8.0.0 (from black)\n",
      "  Downloading click-8.1.7-py3-none-any.whl.metadata (3.0 kB)\n",
      "Collecting mypy-extensions>=0.4.3 (from black)\n",
      "  Downloading mypy_extensions-1.0.0-py3-none-any.whl (4.7 kB)\n",
      "Requirement already satisfied: packaging>=22.0 in c:\\users\\admin\\appdata\\roaming\\python\\python38\\site-packages (from black) (23.1)\n",
      "Collecting pathspec>=0.9.0 (from black)\n",
      "  Downloading pathspec-0.12.1-py3-none-any.whl.metadata (21 kB)\n",
      "Requirement already satisfied: platformdirs>=2 in c:\\users\\admin\\appdata\\roaming\\python\\python38\\site-packages (from black) (3.10.0)\n",
      "Requirement already satisfied: tomli>=1.1.0 in c:\\users\\admin\\appdata\\local\\programs\\python\\python38\\lib\\site-packages (from black) (2.0.1)\n",
      "Requirement already satisfied: typing-extensions>=4.0.1 in c:\\users\\admin\\appdata\\roaming\\python\\python38\\site-packages (from black) (4.8.0)\n",
      "Requirement already satisfied: colorama in c:\\users\\admin\\appdata\\roaming\\python\\python38\\site-packages (from click>=8.0.0->black) (0.4.6)\n",
      "Downloading black-23.12.1-cp38-cp38-win_amd64.whl (1.3 MB)\n",
      "   ---------------------------------------- 0.0/1.3 MB ? eta -:--:--\n",
      "   --- ------------------------------------ 0.1/1.3 MB 2.4 MB/s eta 0:00:01\n",
      "   ---------- ----------------------------- 0.4/1.3 MB 4.4 MB/s eta 0:00:01\n",
      "   ------------------------ --------------- 0.8/1.3 MB 5.7 MB/s eta 0:00:01\n",
      "   -------------------------------------- - 1.3/1.3 MB 6.9 MB/s eta 0:00:01\n",
      "   ---------------------------------------- 1.3/1.3 MB 6.5 MB/s eta 0:00:00\n",
      "Downloading click-8.1.7-py3-none-any.whl (97 kB)\n",
      "   ---------------------------------------- 0.0/97.9 kB ? eta -:--:--\n",
      "   ---------------------------------------- 97.9/97.9 kB 5.8 MB/s eta 0:00:00\n",
      "Downloading pathspec-0.12.1-py3-none-any.whl (31 kB)\n",
      "Installing collected packages: pathspec, mypy-extensions, click, black\n",
      "Successfully installed black-23.12.1 click-8.1.7 mypy-extensions-1.0.0 pathspec-0.12.1\n",
      "Note: you may need to restart the kernel to use updated packages.\n"
     ]
    },
    {
     "name": "stderr",
     "output_type": "stream",
     "text": [
      "\n",
      "[notice] A new release of pip is available: 23.3.1 -> 23.3.2\n",
      "[notice] To update, run: python.exe -m pip install --upgrade pip\n"
     ]
    }
   ],
   "source": [
    "pip install black"
   ]
  },
  {
   "cell_type": "code",
   "execution_count": null,
   "metadata": {},
   "outputs": [],
   "source": []
  }
 ],
 "metadata": {
  "kernelspec": {
   "display_name": "Python 3",
   "language": "python",
   "name": "python3"
  },
  "language_info": {
   "codemirror_mode": {
    "name": "ipython",
    "version": 3
   },
   "file_extension": ".py",
   "mimetype": "text/x-python",
   "name": "python",
   "nbconvert_exporter": "python",
   "pygments_lexer": "ipython3",
   "version": "3.8.0"
  }
 },
 "nbformat": 4,
 "nbformat_minor": 2
}
